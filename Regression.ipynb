{
 "cells": [
  {
   "cell_type": "markdown",
   "metadata": {},
   "source": [
    "## Import Libraries"
   ]
  },
  {
   "cell_type": "code",
   "execution_count": null,
   "metadata": {
    "scrolled": true
   },
   "outputs": [],
   "source": [
    "!pip install ibm-watson\n",
    "!pip install seaborn\n",
    "!pip install pandas\n",
    "!pip install tqdm\n",
    "!pip install matplotlib"
   ]
  },
  {
   "cell_type": "code",
   "execution_count": null,
   "metadata": {
    "scrolled": false
   },
   "outputs": [],
   "source": [
    "from IPython.display import HTML\n",
    "from ibm_watson import AssistantV2\n",
    "from ibm_cloud_sdk_core.authenticators import IAMAuthenticator\n",
    "import pandas as pd    \n",
    "import json\n",
    "import time\n",
    "from tqdm import tqdm\n",
    "import seaborn as sns\n",
    "import matplotlib as plt\n",
    "from datetime import date\n",
    "import statistics\n",
    "\n",
    "today = date.today()"
   ]
  },
  {
   "cell_type": "markdown",
   "metadata": {},
   "source": [
    "## API Details"
   ]
  },
  {
   "cell_type": "code",
   "execution_count": null,
   "metadata": {
    "scrolled": false
   },
   "outputs": [],
   "source": [
    "authenticator = IAMAuthenticator('')\n",
    "assistant = AssistantV2(\n",
    "    version='2020-04-01',\n",
    "    authenticator = authenticator\n",
    ")\n",
    "assistant.set_service_url('')\n",
    "assistant_id = ''"
   ]
  },
  {
   "cell_type": "code",
   "execution_count": null,
   "metadata": {
    "scrolled": false
   },
   "outputs": [],
   "source": [
    "ResponseList = []\n",
    "IntentList = []\n",
    "ConfidenceList = []\n",
    "ExpectedList = []\n",
    "SecondIntent = []\n",
    "SecondConfidence = []\n",
    "\n",
    "\n",
    "\n",
    "MatchList = []\n",
    "ConfidenceChangeList = []\n",
    "\n",
    "\n",
    "LatestHistoricMatchConfidence = []\n",
    "LatestHistoricUnmatchConfidence = []\n",
    "LatestHistoricAverageConfidence = []\n",
    "LatestHistoricCorrectResponse = []\n",
    "LatestHistoricDate = []\n",
    "\n",
    "\n",
    "\n",
    "\n",
    "RegressionFile = pd.read_csv('regression.csv')\n",
    "HistoricDF = pd.read_csv('RegressionLog.csv')"
   ]
  },
  {
   "cell_type": "markdown",
   "metadata": {},
   "source": [
    "## Load the last set of results and questions into a list"
   ]
  },
  {
   "cell_type": "code",
   "execution_count": null,
   "metadata": {
    "scrolled": false
   },
   "outputs": [],
   "source": [
    "QuestionList = RegressionFile['Question'].tolist()\n",
    "ExpectedList = RegressionFile['Expected'].tolist()\n",
    "ScoreList = RegressionFile['Confidence'].tolist()"
   ]
  },
  {
   "cell_type": "markdown",
   "metadata": {},
   "source": [
    "## Send questions to Watson and log the response"
   ]
  },
  {
   "cell_type": "code",
   "execution_count": null,
   "metadata": {
    "scrolled": false
   },
   "outputs": [],
   "source": [
    "def Sender():\n",
    "    response = assistant.message_stateless(\n",
    "    assistant_id,\n",
    "    input={\n",
    "        'message_type': 'text',\n",
    "        'text': x,\n",
    "     'options': {\n",
    "            'return_context': True\n",
    "        }\n",
    "    },\n",
    "    context={\n",
    "        'skills': {\n",
    "            'main skill': {\n",
    "                'user_defined': {\n",
    "                    'ConfidenceTester': 'Yes'\n",
    "                }\n",
    "            }\n",
    "        }\n",
    "    }\n",
    ").get_result()\n",
    "    pbar.update(1) #Updates the progressbar\n",
    "    IntentList.append((response['context']['skills']['main skill']['user_defined']['Intent']['intent']))\n",
    "    ConfidenceList.append((response['context']['skills']['main skill']['user_defined']['Intent']['confidence']))\n",
    "    SecondIntent.append((response['context']['skills']['main skill']['user_defined']['Intent1']['intent']))\n",
    "    SecondConfidence.append((response['context']['skills']['main skill']['user_defined']['Intent1']['confidence']))"
   ]
  },
  {
   "cell_type": "markdown",
   "metadata": {},
   "source": [
    "## Loop through and show progress bar"
   ]
  },
  {
   "cell_type": "code",
   "execution_count": null,
   "metadata": {
    "scrolled": false,
    "tags": []
   },
   "outputs": [],
   "source": [
    "pbar = tqdm(total=len(QuestionList),desc=\"Percentage complete\") \n",
    "for x in QuestionList:\n",
    "    Sender()\n",
    "pbar.close()"
   ]
  },
  {
   "cell_type": "markdown",
   "metadata": {},
   "source": [
    "## Case Match"
   ]
  },
  {
   "cell_type": "code",
   "execution_count": null,
   "metadata": {
    "scrolled": true
   },
   "outputs": [],
   "source": [
    "IntentList = [item.lower() for item in IntentList] \n",
    "ExpectedList = [item.lower() for item in ExpectedList]\n",
    "UniqueList = list(dict.fromkeys(IntentList)) # List all the unique names for each intent in here."
   ]
  },
  {
   "cell_type": "markdown",
   "metadata": {},
   "source": [
    "## Differential Calculation"
   ]
  },
  {
   "cell_type": "code",
   "execution_count": null,
   "metadata": {
    "scrolled": true
   },
   "outputs": [],
   "source": [
    "DifferentialDict = {\n",
    "    \"Confidence 1\": (ConfidenceList),\n",
    "    \"Confidence 2\":(SecondConfidence)\n",
    "    \n",
    "}\n",
    "\n",
    "DifferentialDF = pd.DataFrame(DifferentialDict)\n",
    "\n",
    "Differential = DifferentialDF[\"Confidence 1\"] - DifferentialDF[\"Confidence 2\"]\n",
    "\n",
    "DifferentialDict = {\n",
    "    \"Intent 1\": (IntentList),\n",
    "    \"Confidence 1\": (ConfidenceList),\n",
    "    \"Intent 2\": (SecondIntent),\n",
    "    \"Confidence 2\":(SecondConfidence),\n",
    "    \"Difference\": (Differential)\n",
    "}\n",
    "\n",
    "DifferentialDF = pd.DataFrame(DifferentialDict)\n",
    "Difference1 = statistics.mean(ConfidenceList)\n",
    "Difference2 = statistics.mean(SecondConfidence)\n",
    "\n",
    "'''Calculate Clarity for the log'''\n",
    "Difference1 = statistics.mean(ConfidenceList)\n",
    "Difference2 = statistics.mean(SecondConfidence)\n",
    "Clarity = round((Difference1 - Difference2) * 100, 2)"
   ]
  },
  {
   "cell_type": "markdown",
   "metadata": {},
   "source": [
    "## Low Confidence and Match count"
   ]
  },
  {
   "cell_type": "code",
   "execution_count": null,
   "metadata": {
    "scrolled": true
   },
   "outputs": [],
   "source": [
    "if len(IntentList) == len(ExpectedList):\n",
    "    for i in range(len(IntentList)):\n",
    "        if IntentList[i] == ExpectedList[i]:\n",
    "         MatchList.append('Matched')\n",
    "        else: \n",
    "         MatchList.append('Unmatched')\n",
    "\n",
    "CorrectCount = MatchList.count(\"Matched\")\n",
    "IncorrectCount = MatchList.count(\"Unmatched\")\n",
    "\n",
    "LowConf = len([1 for i in ConfidenceList if i < 0.2])\n",
    "\n",
    "Total = round(CorrectCount / len(MatchList) * 100,2)\n",
    "\n",
    "NumExamples = len(MatchList)"
   ]
  },
  {
   "cell_type": "markdown",
   "metadata": {},
   "source": [
    "## Calculate the Averages"
   ]
  },
  {
   "cell_type": "code",
   "execution_count": null,
   "metadata": {
    "scrolled": true
   },
   "outputs": [],
   "source": [
    "RegressionFile['MatchList'] = MatchList\n",
    "RegressionFile['ConfidenceList'] = ConfidenceList #Look at this before release\n",
    "MatchedQuestion = RegressionFile[(RegressionFile['MatchList'] == 'Matched')]\n",
    "UnmatchedQuestion = RegressionFile[(RegressionFile['MatchList'] == 'Unmatched')]\n",
    "AverageForMatched = round(MatchedQuestion['ConfidenceList'].mean() * 100,2)\n",
    "AverageForUnmatched = round(UnmatchedQuestion['ConfidenceList'].mean() *100,2)\n",
    "AverageConfidence = round(RegressionFile['ConfidenceList'].mean() *100,2)\n",
    "\n",
    "\n",
    "LatestHistoricMatchConfidence.append(AverageForMatched)\n",
    "LatestHistoricUnmatchConfidence.append(AverageForUnmatched)\n",
    "LatestHistoricAverageConfidence.append(AverageConfidence)\n",
    "LatestHistoricCorrectResponse.append(Total)\n",
    "LatestHistoricDate.append(today)"
   ]
  },
  {
   "cell_type": "code",
   "execution_count": null,
   "metadata": {
    "scrolled": true,
    "tags": []
   },
   "outputs": [],
   "source": [
    "LatestDict = {'Match Confidence': (LatestHistoricMatchConfidence),\n",
    "              'Unmatched Confidence':(LatestHistoricUnmatchConfidence),\n",
    "              'Average Confidence':(LatestHistoricAverageConfidence),\n",
    "              'Correct Response %':(LatestHistoricCorrectResponse),\n",
    "              'Clarity':(Clarity),\n",
    "              'Low Confidence':(LowConf),\n",
    "              'Number of Examples': (NumExamples),\n",
    "              'Date':(LatestHistoricDate)\n",
    "} \n",
    "\n",
    "LatestDF = pd.DataFrame(LatestDict)\n",
    "\n",
    "\n",
    "DifferentialDict = {\n",
    "    \"Intent 1\": (IntentList),\n",
    "    \"Confidence 1\": (ConfidenceList),\n",
    "    \"Intent 2\": (SecondIntent),\n",
    "    \"Confidence 2\":(SecondConfidence),\n",
    "    \"Difference\": (Differential),\n",
    "    'Matched': (NumExamples)\n",
    "    \n",
    "}\n",
    "\n",
    "DifferentialDF = pd.DataFrame(DifferentialDict)\n",
    "DifferentialDF[DifferentialDF.Matched != 'Matched']\n",
    "RegressionLogDF = pd.concat([HistoricDF,LatestDF], join=\"inner\",)"
   ]
  },
  {
   "cell_type": "markdown",
   "metadata": {},
   "source": [
    "## Print the last 5 results"
   ]
  },
  {
   "cell_type": "code",
   "execution_count": null,
   "metadata": {
    "scrolled": true
   },
   "outputs": [],
   "source": [
    "RegressionLogDF.tail(5)"
   ]
  },
  {
   "cell_type": "markdown",
   "metadata": {},
   "source": [
    "## Confusion Matrix"
   ]
  },
  {
   "cell_type": "code",
   "execution_count": null,
   "metadata": {
    "scrolled": false
   },
   "outputs": [],
   "source": [
    "ConfusionMatrixData = {'x_Actual': IntentList,\n",
    "                       'y_Predicted': ExpectedList \n",
    "                         }\n",
    "\n",
    "DFCM = pd.DataFrame(ConfusionMatrixData, columns=['x_Actual','y_Predicted'])\n",
    "\n",
    "confusion_matrix = pd.crosstab(DFCM['y_Predicted'], DFCM['x_Actual'], rownames=['Predicted'], colnames=['Actual'], normalize='index')\n",
    "sns.set(rc={'figure.figsize':(20,20)})\n",
    "confusionmat = sns.heatmap(confusion_matrix, cmap='viridis',linewidths=.2, square=True,)"
   ]
  },
  {
   "cell_type": "markdown",
   "metadata": {},
   "source": [
    "## Create a box plot for the average per intent"
   ]
  },
  {
   "cell_type": "code",
   "execution_count": null,
   "metadata": {
    "scrolled": true
   },
   "outputs": [],
   "source": [
    "BoxPlot = {\n",
    "    \"Intent\": (IntentList),\n",
    "    \"Confidence\": (ConfidenceList)\n",
    "}\n",
    "\n",
    "BoxPlot = pd.DataFrame(BoxPlot)\n",
    "sns.boxplot( y=BoxPlot[\"Intent\"], x=BoxPlot[\"Confidence\"], fliersize=0.1);"
   ]
  },
  {
   "cell_type": "markdown",
   "metadata": {},
   "source": [
    "## Definition Calculation"
   ]
  },
  {
   "cell_type": "code",
   "execution_count": null,
   "metadata": {
    "scrolled": true
   },
   "outputs": [],
   "source": [
    "DefinitionDF = DifferentialDF.groupby('Intent 1')['Difference'].mean().sort_values(ascending=False)\n",
    "BarPlot = sns.barplot(y = DifferentialDF['Intent 1'], x = DifferentialDF['Difference'], errwidth=0)"
   ]
  },
  {
   "cell_type": "markdown",
   "metadata": {},
   "source": [
    "## Save the updated files to include the latest scores"
   ]
  },
  {
   "cell_type": "code",
   "execution_count": null,
   "metadata": {
    "scrolled": false,
    "tags": []
   },
   "outputs": [],
   "source": [
    "#Create the Regression File to reference in the future\n",
    "\n",
    "RegressionDict = { 'Question':(QuestionList),\n",
    "           'Expected':(ExpectedList),\n",
    "           'Intent':(IntentList),\n",
    "           'Confidence':(ConfidenceList),\n",
    "           'Matched': (MatchList),\n",
    "           'Previous Score':(ScoreList)\n",
    "               }\n",
    "finaldf = pd.DataFrame(RegressionDict)\n",
    "\n",
    "\n",
    "RegressionLogDF.to_csv('RegressionLog.csv', index=False)\n",
    "DifferentialDF.to_csv('Differential.csv', index=False)"
   ]
  },
  {
   "cell_type": "code",
   "execution_count": null,
   "metadata": {
    "scrolled": true
   },
   "outputs": [],
   "source": []
  }
 ],
 "metadata": {
  "kernelspec": {
   "display_name": "Python 3",
   "language": "python",
   "name": "python3"
  },
  "language_info": {
   "codemirror_mode": {
    "name": "ipython",
    "version": 3
   },
   "file_extension": ".py",
   "mimetype": "text/x-python",
   "name": "python",
   "nbconvert_exporter": "python",
   "pygments_lexer": "ipython3",
   "version": "3.7.4"
  }
 },
 "nbformat": 4,
 "nbformat_minor": 2
}
